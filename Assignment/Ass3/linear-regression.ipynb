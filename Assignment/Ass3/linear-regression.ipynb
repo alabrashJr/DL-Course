{
 "cells": [
  {
   "cell_type": "code",
   "execution_count": 1,
   "metadata": {},
   "outputs": [],
   "source": [
    "# Name:ABDULRAHMAN ALABRASH\n",
    "# Student ID: 68383"
   ]
  },
  {
   "cell_type": "markdown",
   "metadata": {},
   "source": [
    "# Linear Regression on Housing Data\n",
    "In the first lab assignment, you played with Boston Housing Dataset. In this lab assignment, you are going to implement a linear regression model trained on Boston Housing Data by using Knet for the first time. We will take advantage of iterators, callable objects and automatic differentation mechanism."
   ]
  },
  {
   "cell_type": "code",
   "execution_count": 2,
   "metadata": {
    "scrolled": true
   },
   "outputs": [],
   "source": [
    "# Necessary imports\n",
    "using Pkg; for p in (\"Knet\",\"AutoGrad\",\"Plots\",\"Images\",\"ImageMagick\"); haskey(Pkg.installed(),p) || Pkg.add(p); end\n",
    "using Knet\n",
    "using Statistics\n",
    "using Random\n",
    "import Base: length, size, iterate, eltype, IteratorSize, IteratorEltype, haslength, @propagate_inbounds, repeat, rand, tail\n",
    "import .Iterators: cycle, Cycle, take\n",
    "using Plots; default(fmt=:png,ls=:auto)"
   ]
  },
  {
   "cell_type": "markdown",
   "metadata": {},
   "source": [
    "## Data Reading\n",
    "You do not need to worry about data reading and preprocessing: We are going to take advantage of housing data reader which is also a part of Knet. We include some source file and then use ```housing``` function. ```housing``` function takes one input argument: the percentage of the test set to split dataset into two parts. Just take a look at the cell below. In this lab session, we are going to use 20% of the data as test split."
   ]
  },
  {
   "cell_type": "code",
   "execution_count": 3,
   "metadata": {
    "scrolled": true
   },
   "outputs": [
    {
     "data": {
      "text/plain": [
       "([-0.410443 -0.113706 … -0.328758 -0.415011; -0.48724 -0.48724 … 0.370303 2.94293; … ; 0.37599 -0.068175 … 0.300082 0.440616; 0.185818 -0.00182931 … 0.299246 -0.337914], [26.4 16.1 … 30.7 19.4], [-0.40099 -0.416566 … -0.403706 -0.405478; 0.456057 -0.48724 … -0.48724 1.44223; … ; 0.197557 0.417723 … 0.440616 0.286609; -0.438739 -0.293103 … 0.446283 -1.13331], [24.5 18.5 … 20.3 29.8])"
      ]
     },
     "execution_count": 3,
     "metadata": {},
     "output_type": "execute_result"
    }
   ],
   "source": [
    "include(joinpath(Knet.dir(), \"data\", \"housing.jl\"))\n",
    "Knet.seed!(1)\n",
    "xtrn, ytrn, xtst, ytst = housing(0.20; url=\"https://raw.githubusercontent.com/ilkerkesen/ufldl-tutorial/master/ex1/housing.data\")"
   ]
  },
  {
   "cell_type": "code",
   "execution_count": 4,
   "metadata": {
    "scrolled": false
   },
   "outputs": [
    {
     "data": {
      "text/plain": [
       "((13, 405), (1, 405), (13, 101), (1, 101))"
      ]
     },
     "execution_count": 4,
     "metadata": {},
     "output_type": "execute_result"
    }
   ],
   "source": [
    "size(xtrn), size(ytrn), size(xtst), size(ytst)"
   ]
  },
  {
   "cell_type": "markdown",
   "metadata": {},
   "source": [
    "## Minibatching via Iterators\n",
    "In this part, you are going implement a minibatching procedure (or let's call it pipeline). Remember, you need to implement your own ```minibatch``` function, it's forbidden to use Knet's ```minibatch``` procedure. Also, your minibatching scheme must use iterators. Just take a look at [this blog post](https://julialang.org/blog/2018/07/iterators-in-julia-0.7). To implement your minibatching pipeline, we provide you ```HousingData``` struct definition. Different from the original implementation, you are not going to discard the last remaining smaller minibatch, you will use all the instances. Also, remember that, ```HousingData``` structure is not mutable which means you are not able to change the values inside struct."
   ]
  },
  {
   "cell_type": "code",
   "execution_count": 5,
   "metadata": {},
   "outputs": [],
   "source": [
    "# DO NOT TOUCH THIS CELL\n",
    "struct HousingDataMinibatch\n",
    "    x\n",
    "    y\n",
    "    batchsize\n",
    "    shuffle # shuffle data in each epoch or not\n",
    "    ninstances # number of instances\n",
    "end"
   ]
  },
  {
   "cell_type": "code",
   "execution_count": 6,
   "metadata": {},
   "outputs": [
    {
     "data": {
      "text/plain": [
       "HousingDataMinibatch"
      ]
     },
     "execution_count": 6,
     "metadata": {},
     "output_type": "execute_result"
    }
   ],
   "source": [
    "# This function constructs a HousingData object\n",
    "function HousingDataMinibatch(x, y; batchsize=100, dtype=Array{Float64}, shuffle=false)\n",
    "    # start your answer\n",
    "    nins=size(x,2)\n",
    "    house=HousingDataMinibatch(x,y,batchsize,shuffle,nins)\n",
    "    house\n",
    "    # end your answer\n",
    "end\n",
    "#"
   ]
  },
  {
   "cell_type": "code",
   "execution_count": 7,
   "metadata": {},
   "outputs": [
    {
     "data": {
      "text/plain": [
       "2"
      ]
     },
     "execution_count": 7,
     "metadata": {},
     "output_type": "execute_result"
    }
   ],
   "source": [
    "convert(Int64,ceil(7/4))#Float64"
   ]
  },
  {
   "cell_type": "code",
   "execution_count": 8,
   "metadata": {},
   "outputs": [
    {
     "data": {
      "text/plain": [
       "length (generic function with 150 methods)"
      ]
     },
     "execution_count": 8,
     "metadata": {},
     "output_type": "execute_result"
    }
   ],
   "source": [
    "# Returns how many batches the dataset has (hint: you can use divrem function)\n",
    "function length(d::HousingDataMinibatch)\n",
    "    # start your answer\n",
    "#     n=0\n",
    "#     for (x,y) in d:\n",
    "#         n+=1\n",
    "#     return n\n",
    "    convert(Int64,ceil(d.ninstances/d.batchsize))\n",
    "    # end your answer\n",
    "end"
   ]
  },
  {
   "cell_type": "code",
   "execution_count": 9,
   "metadata": {},
   "outputs": [
    {
     "data": {
      "text/plain": [
       "rand (generic function with 70 methods)"
      ]
     },
     "execution_count": 9,
     "metadata": {},
     "output_type": "execute_result"
    }
   ],
   "source": [
    "# Returns a random minibatch (hint: you can use randperm function)\n",
    "function rand(d::HousingDataMinibatch)\n",
    "    # start your answer\n",
    "    indx=randperm(d.ninstanace)[1:d.batchsize]\n",
    "    x=d.x[:,indx]\n",
    "    y=d.y[:,indx]\n",
    "    # end your answer\n",
    "    return (x, y)\n",
    "end"
   ]
  },
  {
   "cell_type": "code",
   "execution_count": 10,
   "metadata": {},
   "outputs": [
    {
     "data": {
      "text/latex": [
       "No documentation found.\n",
       "\n",
       "Binding \\texttt{next} does not exist.\n",
       "\n"
      ],
      "text/markdown": [
       "No documentation found.\n",
       "\n",
       "Binding `next` does not exist.\n"
      ],
      "text/plain": [
       "  No documentation found.\n",
       "\n",
       "  Binding \u001b[36mnext\u001b[39m does not exist."
      ]
     },
     "execution_count": 10,
     "metadata": {},
     "output_type": "execute_result"
    }
   ],
   "source": [
    "@doc next"
   ]
  },
  {
   "cell_type": "code",
   "execution_count": 11,
   "metadata": {},
   "outputs": [
    {
     "data": {
      "text/plain": [
       "iterate (generic function with 276 methods)"
      ]
     },
     "execution_count": 11,
     "metadata": {},
     "output_type": "execute_result"
    }
   ],
   "source": [
    "# This is how you implement your own iterator!\n",
    "function iterate(d::HousingDataMinibatch, state=ifelse(d.shuffle, randperm(d.ninstances), 1:d.ninstances))\n",
    "#   if state is not given it will start from 0, \n",
    "    # start your answer\n",
    "    i=min(size(state,1),d.batchsize)\n",
    "    \n",
    "    if size(state,1)==0\n",
    "        return nothing\n",
    "    else \n",
    "        \n",
    "        x=d.x[:,state[1:i]]\n",
    "        y=d.y[:,state[1:i]]\n",
    "        #doing this will make the polt  smooth \n",
    "#         x=d.x[:,1:i]\n",
    "#         y=d.y[:,1:i]\n",
    "        state=state[d.batchsize+1:end]\n",
    "    end\n",
    "    return (x,y),state\n",
    "    # end your answer\n",
    "end"
   ]
  },
  {
   "cell_type": "code",
   "execution_count": 12,
   "metadata": {
    "scrolled": true
   },
   "outputs": [
    {
     "data": {
      "text/plain": [
       "HousingDataMinibatch([-0.40099 -0.416566 … -0.403706 -0.405478; 0.456057 -0.48724 … -0.48724 1.44223; … ; 0.197557 0.417723 … 0.440616 0.286609; -0.438739 -0.293103 … 0.446283 -1.13331], [24.5 18.5 … 20.3 29.8], 100, false, 101)"
      ]
     },
     "execution_count": 12,
     "metadata": {},
     "output_type": "execute_result"
    }
   ],
   "source": [
    "dtrn = HousingDataMinibatch(xtrn, ytrn; shuffle=true)\n",
    "dtst = HousingDataMinibatch(xtst, ytst)"
   ]
  },
  {
   "cell_type": "code",
   "execution_count": 13,
   "metadata": {},
   "outputs": [
    {
     "name": "stdout",
     "output_type": "stream",
     "text": [
      "(13, 100), (1, 100)\n",
      "(13, 100), (1, 100)\n",
      "(13, 100), (1, 100)\n",
      "(13, 100), (1, 100)\n",
      "(13, 5), (1, 5)\n"
     ]
    }
   ],
   "source": [
    "# just testing\n",
    "for (x, y) in dtrn\n",
    "    println(size(x), \", \", size(y))\n",
    "end\n",
    "\n",
    "# needs to have the following output\n",
    "# (13, 100), (1, 100)\n",
    "# (13, 100), (1, 100)\n",
    "# (13, 100), (1, 100)\n",
    "# (13, 100), (1, 100)\n",
    "# (13, 5), (1, 5)"
   ]
  },
  {
   "cell_type": "markdown",
   "metadata": {},
   "source": [
    "## Model Implementation via Callable Objects\n",
    "Next, we are going to implement our model via callable objects. In Julia, we can call objects. Just give a glimpse at the following code snippet:"
   ]
  },
  {
   "cell_type": "code",
   "execution_count": 14,
   "metadata": {},
   "outputs": [
    {
     "name": "stdout",
     "output_type": "stream",
     "text": [
      "Hello, World!\n",
      "Hello, Jupiter!\n"
     ]
    }
   ],
   "source": [
    "struct Hello\n",
    "    planet\n",
    "    Hello(planet=\"World\") = new(planet)\n",
    "end\n",
    "\n",
    "(obj::Hello)() = println(\"Hello, $(obj.planet)!\")\n",
    "\n",
    "hello_world = Hello()\n",
    "hello_world()\n",
    "\n",
    "hello_jupiter = Hello(\"Jupiter\")\n",
    "hello_jupiter()"
   ]
  },
  {
   "cell_type": "markdown",
   "metadata": {},
   "source": [
    "For this assingment, you just need to define a linear layer and that's all! Write your solutions to the below cell. Hint: You need to use ```Param``` method of AutoGrad. Just type ```@doc Param``` to see the documentation."
   ]
  },
  {
   "cell_type": "code",
   "execution_count": 15,
   "metadata": {},
   "outputs": [
    {
     "data": {
      "text/plain": [
       "Linear(P(Array{Float64,2}(1,13)), P(Array{Float64,1}(1)))"
      ]
     },
     "execution_count": 15,
     "metadata": {},
     "output_type": "execute_result"
    }
   ],
   "source": [
    "struct Linear; w; b; end\n",
    "\n",
    "function (l::Linear)(x)\n",
    "    # start your answer\n",
    "    l.w*x.+l.b\n",
    "    # end your answer\n",
    "end\n",
    "\n",
    "function Linear(xsize::Int, ysize::Int, atype=Array{Float64}, scale=0.1)\n",
    "    # start your answer\n",
    "    Linear(Param(scale * randn(ysize,xsize)),Param(zeros(ysize)))\n",
    "    \n",
    "    # end your answer\n",
    "end\n",
    "\n",
    "model = Linear(13, 1)"
   ]
  },
  {
   "cell_type": "markdown",
   "metadata": {},
   "source": [
    "## Define Loss Function\n",
    "In this part, we'll define our loss function. We are going to use minimum squared error loss function,\n",
    "\n",
    "![MSE](http://web.itu.edu.tr/keseni/mse.png)\n",
    "\n",
    "We're going to define three diffent functions for this purpose,\n",
    "\n",
    "1. A function takes predictions and gold values as input.\n",
    "2. A callable object procedure that takes input/output pair as input\n",
    "3. A callable object procedure that takes our dataset object as input\n",
    "\n",
    "See function prototypes below and the documentation of ```train!``` function."
   ]
  },
  {
   "cell_type": "code",
   "execution_count": 16,
   "metadata": {},
   "outputs": [],
   "source": [
    "# 1 - takes predictions and gold values as input.\n",
    "function mse(ypred, ygold)\n",
    "    # start your answer\n",
    "    sum(abs2,ygold-ypred)/(2*size(ypred,2))\n",
    "    # end your answer\n",
    "end\n",
    "\n",
    "\n",
    "# 2 - callable object procedure that takes input/output pair as input\n",
    "function (m::Linear)(x, y)\n",
    "    # start your answer\n",
    "    mse(m(x),y)\n",
    "    # end your answer\n",
    "end\n",
    "\n",
    "\n",
    "# 3 - callable object procedure that takes our dataset object as input\n",
    "function (m::Linear)(data::HousingDataMinibatch)\n",
    "    # start your answer\n",
    "    mean(m(x,y) for (x,y) in data)\n",
    "    # end your answer\n",
    "end"
   ]
  },
  {
   "cell_type": "markdown",
   "metadata": {},
   "source": [
    "## Training with Modular Interface and Iterators\n",
    "Now, let's implement a ```mytrain!``` procedure to train our network! It takes model, train data, test data, report period (in iterations) and number of maximum iterations. It trains our model until a certain maximum iterations number, records loss values of train and test data splits after each report period. It should output three lists: iterations numbers, loss values of train set, loss values of test set.\n",
    "\n",
    "Hint: You will need ```sgd!```, ```cycle``` and ```take``` procedures."
   ]
  },
  {
   "cell_type": "markdown",
   "metadata": {},
   "source": [
    "Finally, let's train our network and plot the results,"
   ]
  },
  {
   "cell_type": "code",
   "execution_count": 17,
   "metadata": {},
   "outputs": [
    {
     "data": {
      "text/plain": [
       "mytrain! (generic function with 3 methods)"
      ]
     },
     "execution_count": 17,
     "metadata": {},
     "output_type": "execute_result"
    }
   ],
   "source": [
    "function mytrain!(m::Linear, dtrn, dtst, valid=10, max_iters=500)\n",
    "    # start your answer\n",
    "    trnloss=Float32[]\n",
    "    tstloss=Float32[]\n",
    "    push!(trnloss,m(dtrn))\n",
    "    push!(tstloss,m(dtst))\n",
    "    for (i,j) in enumerate(sgd(m,take(cycle(dtrn),max_iters),lr=0.01))\n",
    "            if i% valid==0\n",
    "                push!(trnloss,m(dtrn))\n",
    "                push!(tstloss,m(dtst))\n",
    "            end\n",
    "        end\n",
    "    # end your answer\n",
    "    return 0:valid:max_iters, trnloss, tstloss\n",
    "end"
   ]
  },
  {
   "cell_type": "code",
   "execution_count": 18,
   "metadata": {},
   "outputs": [
    {
     "data": {
      "image/png": "[encoded data removed]"
     },
     "execution_count": 18,
     "metadata": {},
     "output_type": "execute_result"
    }
   ],
   "source": [
    "Knet.seed!(42)\n",
    "model = Linear(13, 1)\n",
    "dtrn = HousingDataMinibatch(xtrn, ytrn; shuffle=true)\n",
    "dtst = HousingDataMinibatch(xtst, ytst)\n",
    "iters, trnloss, tstloss = mytrain!(model, dtrn, dtst)\n",
    "plot(iters, [trnloss, tstloss], labels=[:trn, :tst], xlabel=\"iterations\", ylabel=\"loss\")"
   ]
  },
  {
   "cell_type": "code",
   "execution_count": null,
   "metadata": {},
   "outputs": [],
   "source": []
  }
 ],
 "metadata": {
  "kernelspec": {
   "display_name": "Julia 1.0.3",
   "language": "julia",
   "name": "julia-1.0"
  },
  "language_info": {
   "file_extension": ".jl",
   "mimetype": "application/julia",
   "name": "julia",
   "version": "1.0.3"
  }
 },
 "nbformat": 4,
 "nbformat_minor": 2
}
